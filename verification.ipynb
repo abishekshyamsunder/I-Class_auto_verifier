{
 "cells": [
  {
   "cell_type": "code",
   "execution_count": 48,
   "metadata": {},
   "outputs": [],
   "source": [
    "import os\n",
    "import pandas as pd\n",
    "import numpy as np\n",
    "import subprocess"
   ]
  },
  {
   "cell_type": "code",
   "execution_count": 49,
   "metadata": {},
   "outputs": [],
   "source": [
    "df = pd.read_csv('fails2.csv')\n",
    "df_sample = df.head(n=100)"
   ]
  },
  {
   "cell_type": "code",
   "execution_count": 50,
   "metadata": {},
   "outputs": [
    {
     "data": {
      "text/plain": [
       "0     aapg_iclass_rv64imafdc_imc_bringup_08072020159...\n",
       "1     aapg_iclass_rv64imafdc_imc_bringup_08072020159...\n",
       "2     aapg_iclass_rv64imafdc_imc_bringup_08072020159...\n",
       "3     aapg_iclass_rv64imafdc_imc_bringup_08072020159...\n",
       "4     aapg_iclass_rv64imafdc_imc_bringup_08072020159...\n",
       "                            ...                        \n",
       "95    aapg_iclass_rv64imafdc_imafd_bringup_080720201...\n",
       "96    aapg_iclass_rv64imafdc_imafd_bringup_080720201...\n",
       "97    aapg_iclass_rv64imafdc_imafd_bringup_080720201...\n",
       "98    aapg_iclass_rv64imafdc_imafd_bringup_080720201...\n",
       "99    aapg_iclass_rv64imafdc_imafd_bringup_080720201...\n",
       "Name: Test Dir, Length: 100, dtype: object"
      ]
     },
     "execution_count": 50,
     "metadata": {},
     "output_type": "execute_result"
    }
   ],
   "source": [
    "df_sample['Test Dir']"
   ]
  },
  {
   "cell_type": "code",
   "execution_count": 51,
   "metadata": {},
   "outputs": [],
   "source": [
    "final_df = pd.DataFrame({\n",
    "    'test_dir': [None],\n",
    "    'fail_reason': [None],\n",
    "    'diff_disass': [None]\n",
    "})"
   ]
  },
  {
   "cell_type": "code",
   "execution_count": 52,
   "metadata": {},
   "outputs": [],
   "source": [
    "i = 0\n",
    "import re\n",
    "os.chdir('/Users/abishek/Desktop/IIT_M_Winter/verification')\n",
    "for name in df_sample['Test Dir']:\n",
    "    grep_check = None\n",
    "    reason = None\n",
    "    diff_disass = None\n",
    "    cur_dir = os.getcwd()\n",
    "    os.chdir(os.path.join('8_july_wrk/aapg/p',name))\n",
    "    os.system('source /Users/abishek/Desktop/IIT_M_Winter/verification/comp_script.sh spike.dump rtl.dump > temp.txt')\n",
    "    out = \"\"\n",
    "    with open('temp.txt','r') as f:\n",
    "        while(1):\n",
    "            line = f.readline()\n",
    "            if not line:\n",
    "                break\n",
    "            out = out + line + '\\n'\n",
    "    #print(out)\n",
    "    diff_disass = out\n",
    "    os.remove('temp.txt')\n",
    "    \n",
    "    if(out==\"\"):\n",
    "        #print('empty diff')\n",
    "        # Read spike last line?\n",
    "        if(os.path.exists('spike.dump')):\n",
    "            with open('spike.dump','r') as sf:\n",
    "                for line in sf.readlines()[-1:]:\n",
    "                    x = re.findall(\"8.*\", line)\n",
    "                    x = x[0][:8]\n",
    "                    grep_check = x\n",
    "                    reason = \"rtl hang due to -->\"\n",
    "    else:\n",
    "        x = re.findall(\"8.*\", out)\n",
    "        x = x[0][:8]\n",
    "        grep_check = x\n",
    "    if grep_check != None and reason==None:\n",
    "        cmd = 'grep '+grep_check+' '+name+'.disass > temp2.txt'\n",
    "        os.system(cmd)\n",
    "        out = \"\"\n",
    "        with open('temp2.txt','r') as f:\n",
    "            while(1):\n",
    "                line = f.readline()\n",
    "                if not line:\n",
    "                    break\n",
    "                out = out + line + '\\n'\n",
    "        x = re.findall(\"8.*:\\t.*\\n\", out)\n",
    "        if(len(x)!=0):\n",
    "            x = x[0]\n",
    "        else:\n",
    "            x = ''\n",
    "        reason = \"mismatch due to --> \" + x\n",
    "        os.remove('temp2.txt')\n",
    "    elif grep_check != None and reason != None:\n",
    "        #print('here')\n",
    "        cmd = 'grep -C 2 '+grep_check+' '+name+'.disass > temp2.txt'\n",
    "        os.system(cmd)\n",
    "        out = \"\"\n",
    "        with open('temp2.txt','r') as f:\n",
    "            while(1):\n",
    "                line = f.readline()\n",
    "                if not line:\n",
    "                    break\n",
    "                out = out + line + '\\n'\n",
    "        diff_disass = out\n",
    "        #print(diff_disass)\n",
    "        x = re.findall(grep_check+'.*\\n', out)\n",
    "        if(len(x)!=0):\n",
    "            x = x[0]\n",
    "        else:\n",
    "            x = ''\n",
    "        reason = reason + x\n",
    "        #print(reason)\n",
    "        os.remove('temp2.txt')\n",
    "        \n",
    "    \n",
    "    df_temp = pd.DataFrame({\n",
    "        'test_dir': [name],\n",
    "        'fail_reason': [reason],\n",
    "        'diff_disass': [diff_disass]\n",
    "    })\n",
    "    final_df = final_df.append(df_temp)\n",
    "    #print(df_temp)\n",
    "    os.chdir(cur_dir)\n"
   ]
  },
  {
   "cell_type": "code",
   "execution_count": 53,
   "metadata": {},
   "outputs": [],
   "source": [
    "#print(final_df)\n",
    "final_df.to_csv('final_df.csv',index=False)"
   ]
  },
  {
   "cell_type": "code",
   "execution_count": null,
   "metadata": {},
   "outputs": [],
   "source": [
    "#     try:\n",
    "#         bin_string = subprocess.check_output('source /Users/abishek/Desktop/IIT_M_Winter/verification/comp_s spike.dump rtl.dump', shell=True,stderr=subprocess.STDOUT)\n",
    "#     except subprocess.CalledProcessError as e:\n",
    "#         raise RuntimeError(\"command '{}' return with error (code {}): {}\".format(e.cmd, e.returncode, e.output))\n",
    "#     print(bin_string)"
   ]
  }
 ],
 "metadata": {
  "kernelspec": {
   "display_name": "Python 3",
   "language": "python",
   "name": "python3"
  },
  "language_info": {
   "codemirror_mode": {
    "name": "ipython",
    "version": 3
   },
   "file_extension": ".py",
   "mimetype": "text/x-python",
   "name": "python",
   "nbconvert_exporter": "python",
   "pygments_lexer": "ipython3",
   "version": "3.6.10"
  }
 },
 "nbformat": 4,
 "nbformat_minor": 4
}
